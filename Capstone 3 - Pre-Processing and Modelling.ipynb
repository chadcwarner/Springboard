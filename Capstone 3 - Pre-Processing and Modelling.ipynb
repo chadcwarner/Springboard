{
 "cells": [
  {
   "cell_type": "code",
   "execution_count": 1,
   "metadata": {},
   "outputs": [],
   "source": [
    "## Import necessary packages\n",
    "\n",
    "import numpy as np\n",
    "import pandas as pd\n",
    "import seaborn as sns\n",
    "import missingno as msno\n",
    "import matplotlib.pyplot as plt\n",
    "from sklearn.preprocessing import StandardScaler\n",
    "from sklearn.model_selection import train_test_split\n",
    "from sklearn.linear_model import LogisticRegression\n",
    "from sklearn.neighbors import KNeighborsClassifier\n",
    "from sklearn.tree import DecisionTreeClassifier\n",
    "from sklearn.svm import SVC\n",
    "from sklearn.model_selection import GridSearchCV\n",
    "from sklearn.ensemble import GradientBoostingClassifier\n",
    "from sklearn.metrics import accuracy_score\n",
    "from sklearn.metrics import confusion_matrix\n",
    "from sklearn.metrics import classification_report"
   ]
  },
  {
   "cell_type": "code",
   "execution_count": 2,
   "metadata": {},
   "outputs": [],
   "source": [
    "# Import the Training Set and the Testing Set\n",
    "\n",
    "training = pd.read_csv('C:/Users/chadc/Downloads/DATA SCIENCE MAIN COURSE/Capstone 3 Project/train.csv')\n",
    "testing = pd.read_csv(('C:/Users/chadc/Downloads/DATA SCIENCE MAIN COURSE/Capstone 3 Project/test.csv'))"
   ]
  },
  {
   "cell_type": "code",
   "execution_count": 3,
   "metadata": {},
   "outputs": [
    {
     "data": {
      "text/html": [
       "<div>\n",
       "<style scoped>\n",
       "    .dataframe tbody tr th:only-of-type {\n",
       "        vertical-align: middle;\n",
       "    }\n",
       "\n",
       "    .dataframe tbody tr th {\n",
       "        vertical-align: top;\n",
       "    }\n",
       "\n",
       "    .dataframe thead th {\n",
       "        text-align: right;\n",
       "    }\n",
       "</style>\n",
       "<table border=\"1\" class=\"dataframe\">\n",
       "  <thead>\n",
       "    <tr style=\"text-align: right;\">\n",
       "      <th></th>\n",
       "      <th>battery_power</th>\n",
       "      <th>blue</th>\n",
       "      <th>clock_speed</th>\n",
       "      <th>dual_sim</th>\n",
       "      <th>fc</th>\n",
       "      <th>four_g</th>\n",
       "      <th>int_memory</th>\n",
       "      <th>m_dep</th>\n",
       "      <th>mobile_wt</th>\n",
       "      <th>n_cores</th>\n",
       "      <th>...</th>\n",
       "      <th>px_height</th>\n",
       "      <th>px_width</th>\n",
       "      <th>ram</th>\n",
       "      <th>sc_h</th>\n",
       "      <th>sc_w</th>\n",
       "      <th>talk_time</th>\n",
       "      <th>three_g</th>\n",
       "      <th>touch_screen</th>\n",
       "      <th>wifi</th>\n",
       "      <th>price_range</th>\n",
       "    </tr>\n",
       "  </thead>\n",
       "  <tbody>\n",
       "    <tr>\n",
       "      <th>0</th>\n",
       "      <td>842</td>\n",
       "      <td>0</td>\n",
       "      <td>2.2</td>\n",
       "      <td>0</td>\n",
       "      <td>1</td>\n",
       "      <td>0</td>\n",
       "      <td>7</td>\n",
       "      <td>0.6</td>\n",
       "      <td>188</td>\n",
       "      <td>2</td>\n",
       "      <td>...</td>\n",
       "      <td>20</td>\n",
       "      <td>756</td>\n",
       "      <td>2549</td>\n",
       "      <td>9</td>\n",
       "      <td>7</td>\n",
       "      <td>19</td>\n",
       "      <td>0</td>\n",
       "      <td>0</td>\n",
       "      <td>1</td>\n",
       "      <td>1</td>\n",
       "    </tr>\n",
       "    <tr>\n",
       "      <th>1</th>\n",
       "      <td>1021</td>\n",
       "      <td>1</td>\n",
       "      <td>0.5</td>\n",
       "      <td>1</td>\n",
       "      <td>0</td>\n",
       "      <td>1</td>\n",
       "      <td>53</td>\n",
       "      <td>0.7</td>\n",
       "      <td>136</td>\n",
       "      <td>3</td>\n",
       "      <td>...</td>\n",
       "      <td>905</td>\n",
       "      <td>1988</td>\n",
       "      <td>2631</td>\n",
       "      <td>17</td>\n",
       "      <td>3</td>\n",
       "      <td>7</td>\n",
       "      <td>1</td>\n",
       "      <td>1</td>\n",
       "      <td>0</td>\n",
       "      <td>2</td>\n",
       "    </tr>\n",
       "    <tr>\n",
       "      <th>2</th>\n",
       "      <td>563</td>\n",
       "      <td>1</td>\n",
       "      <td>0.5</td>\n",
       "      <td>1</td>\n",
       "      <td>2</td>\n",
       "      <td>1</td>\n",
       "      <td>41</td>\n",
       "      <td>0.9</td>\n",
       "      <td>145</td>\n",
       "      <td>5</td>\n",
       "      <td>...</td>\n",
       "      <td>1263</td>\n",
       "      <td>1716</td>\n",
       "      <td>2603</td>\n",
       "      <td>11</td>\n",
       "      <td>2</td>\n",
       "      <td>9</td>\n",
       "      <td>1</td>\n",
       "      <td>1</td>\n",
       "      <td>0</td>\n",
       "      <td>2</td>\n",
       "    </tr>\n",
       "    <tr>\n",
       "      <th>3</th>\n",
       "      <td>615</td>\n",
       "      <td>1</td>\n",
       "      <td>2.5</td>\n",
       "      <td>0</td>\n",
       "      <td>0</td>\n",
       "      <td>0</td>\n",
       "      <td>10</td>\n",
       "      <td>0.8</td>\n",
       "      <td>131</td>\n",
       "      <td>6</td>\n",
       "      <td>...</td>\n",
       "      <td>1216</td>\n",
       "      <td>1786</td>\n",
       "      <td>2769</td>\n",
       "      <td>16</td>\n",
       "      <td>8</td>\n",
       "      <td>11</td>\n",
       "      <td>1</td>\n",
       "      <td>0</td>\n",
       "      <td>0</td>\n",
       "      <td>2</td>\n",
       "    </tr>\n",
       "    <tr>\n",
       "      <th>4</th>\n",
       "      <td>1821</td>\n",
       "      <td>1</td>\n",
       "      <td>1.2</td>\n",
       "      <td>0</td>\n",
       "      <td>13</td>\n",
       "      <td>1</td>\n",
       "      <td>44</td>\n",
       "      <td>0.6</td>\n",
       "      <td>141</td>\n",
       "      <td>2</td>\n",
       "      <td>...</td>\n",
       "      <td>1208</td>\n",
       "      <td>1212</td>\n",
       "      <td>1411</td>\n",
       "      <td>8</td>\n",
       "      <td>2</td>\n",
       "      <td>15</td>\n",
       "      <td>1</td>\n",
       "      <td>1</td>\n",
       "      <td>0</td>\n",
       "      <td>1</td>\n",
       "    </tr>\n",
       "  </tbody>\n",
       "</table>\n",
       "<p>5 rows × 21 columns</p>\n",
       "</div>"
      ],
      "text/plain": [
       "   battery_power  blue  clock_speed  dual_sim  fc  four_g  int_memory  m_dep  \\\n",
       "0            842     0          2.2         0   1       0           7    0.6   \n",
       "1           1021     1          0.5         1   0       1          53    0.7   \n",
       "2            563     1          0.5         1   2       1          41    0.9   \n",
       "3            615     1          2.5         0   0       0          10    0.8   \n",
       "4           1821     1          1.2         0  13       1          44    0.6   \n",
       "\n",
       "   mobile_wt  n_cores  ...  px_height  px_width   ram  sc_h  sc_w  talk_time  \\\n",
       "0        188        2  ...         20       756  2549     9     7         19   \n",
       "1        136        3  ...        905      1988  2631    17     3          7   \n",
       "2        145        5  ...       1263      1716  2603    11     2          9   \n",
       "3        131        6  ...       1216      1786  2769    16     8         11   \n",
       "4        141        2  ...       1208      1212  1411     8     2         15   \n",
       "\n",
       "   three_g  touch_screen  wifi  price_range  \n",
       "0        0             0     1            1  \n",
       "1        1             1     0            2  \n",
       "2        1             1     0            2  \n",
       "3        1             0     0            2  \n",
       "4        1             1     0            1  \n",
       "\n",
       "[5 rows x 21 columns]"
      ]
     },
     "execution_count": 3,
     "metadata": {},
     "output_type": "execute_result"
    }
   ],
   "source": [
    "# Inspect the first 5 rows of the dataset\n",
    "\n",
    "training.head()"
   ]
  },
  {
   "cell_type": "code",
   "execution_count": 4,
   "metadata": {},
   "outputs": [],
   "source": [
    "# Rename the column in a form more understandable to me\n",
    "\n",
    "training = training.rename(columns={'battery_power':'Battery_Power', 'blue':'Bluetooth', 'clock_speed':'Clock_Speed', 'dual_sim':'Dual_Sim','fc':'Front_Camera', 'four_g':'4G', 'int_memory':'Internal_Memory', 'm_dep':'Mobile_Depth', 'mobile_wt':'Weight', 'n_cores':'#_Cores', 'pc':'MP_Primary_Cam', 'px_height':'Pix_Height', 'px_width':'Pix_Width', 'ram':'RAM', 'sc_h':'Screen_Height', 'sc_w':'Screen_Width', 'talk_time':'Talk_Time', 'three_g':'3G', 'touch_screen':'Touch_Screen', 'wifi':'Wi-Fi', 'price_range':'Price_Range'})"
   ]
  },
  {
   "cell_type": "code",
   "execution_count": 5,
   "metadata": {},
   "outputs": [],
   "source": [
    "# Drop the dependent variable from the dataframe and isolcate all the independent variables\n",
    "\n",
    "X = training.drop('Price_Range',axis=1) #dropped the target variable"
   ]
  },
  {
   "cell_type": "code",
   "execution_count": 6,
   "metadata": {},
   "outputs": [
    {
     "data": {
      "text/plain": [
       "(2000, 20)"
      ]
     },
     "execution_count": 6,
     "metadata": {},
     "output_type": "execute_result"
    }
   ],
   "source": [
    "# Check the shape and make sure that the dateframe is missing one column\n",
    "\n",
    "X.shape"
   ]
  },
  {
   "cell_type": "code",
   "execution_count": 7,
   "metadata": {},
   "outputs": [],
   "source": [
    "# Isolate the independent variable\n",
    "\n",
    "y=training['Price_Range']"
   ]
  },
  {
   "cell_type": "code",
   "execution_count": 8,
   "metadata": {},
   "outputs": [
    {
     "data": {
      "text/plain": [
       "0    1\n",
       "1    2\n",
       "2    2\n",
       "3    2\n",
       "4    1\n",
       "Name: Price_Range, dtype: int64"
      ]
     },
     "execution_count": 8,
     "metadata": {},
     "output_type": "execute_result"
    }
   ],
   "source": [
    "# Check the first five rows of the independent variable\n",
    "\n",
    "y.head()"
   ]
  },
  {
   "cell_type": "code",
   "execution_count": 9,
   "metadata": {},
   "outputs": [
    {
     "data": {
      "text/html": [
       "<div>\n",
       "<style scoped>\n",
       "    .dataframe tbody tr th:only-of-type {\n",
       "        vertical-align: middle;\n",
       "    }\n",
       "\n",
       "    .dataframe tbody tr th {\n",
       "        vertical-align: top;\n",
       "    }\n",
       "\n",
       "    .dataframe thead th {\n",
       "        text-align: right;\n",
       "    }\n",
       "</style>\n",
       "<table border=\"1\" class=\"dataframe\">\n",
       "  <thead>\n",
       "    <tr style=\"text-align: right;\">\n",
       "      <th></th>\n",
       "      <th>id</th>\n",
       "      <th>battery_power</th>\n",
       "      <th>blue</th>\n",
       "      <th>clock_speed</th>\n",
       "      <th>dual_sim</th>\n",
       "      <th>fc</th>\n",
       "      <th>four_g</th>\n",
       "      <th>int_memory</th>\n",
       "      <th>m_dep</th>\n",
       "      <th>mobile_wt</th>\n",
       "      <th>...</th>\n",
       "      <th>pc</th>\n",
       "      <th>px_height</th>\n",
       "      <th>px_width</th>\n",
       "      <th>ram</th>\n",
       "      <th>sc_h</th>\n",
       "      <th>sc_w</th>\n",
       "      <th>talk_time</th>\n",
       "      <th>three_g</th>\n",
       "      <th>touch_screen</th>\n",
       "      <th>wifi</th>\n",
       "    </tr>\n",
       "  </thead>\n",
       "  <tbody>\n",
       "    <tr>\n",
       "      <th>0</th>\n",
       "      <td>1</td>\n",
       "      <td>1043</td>\n",
       "      <td>1</td>\n",
       "      <td>1.8</td>\n",
       "      <td>1</td>\n",
       "      <td>14</td>\n",
       "      <td>0</td>\n",
       "      <td>5</td>\n",
       "      <td>0.1</td>\n",
       "      <td>193</td>\n",
       "      <td>...</td>\n",
       "      <td>16</td>\n",
       "      <td>226</td>\n",
       "      <td>1412</td>\n",
       "      <td>3476</td>\n",
       "      <td>12</td>\n",
       "      <td>7</td>\n",
       "      <td>2</td>\n",
       "      <td>0</td>\n",
       "      <td>1</td>\n",
       "      <td>0</td>\n",
       "    </tr>\n",
       "    <tr>\n",
       "      <th>1</th>\n",
       "      <td>2</td>\n",
       "      <td>841</td>\n",
       "      <td>1</td>\n",
       "      <td>0.5</td>\n",
       "      <td>1</td>\n",
       "      <td>4</td>\n",
       "      <td>1</td>\n",
       "      <td>61</td>\n",
       "      <td>0.8</td>\n",
       "      <td>191</td>\n",
       "      <td>...</td>\n",
       "      <td>12</td>\n",
       "      <td>746</td>\n",
       "      <td>857</td>\n",
       "      <td>3895</td>\n",
       "      <td>6</td>\n",
       "      <td>0</td>\n",
       "      <td>7</td>\n",
       "      <td>1</td>\n",
       "      <td>0</td>\n",
       "      <td>0</td>\n",
       "    </tr>\n",
       "    <tr>\n",
       "      <th>2</th>\n",
       "      <td>3</td>\n",
       "      <td>1807</td>\n",
       "      <td>1</td>\n",
       "      <td>2.8</td>\n",
       "      <td>0</td>\n",
       "      <td>1</td>\n",
       "      <td>0</td>\n",
       "      <td>27</td>\n",
       "      <td>0.9</td>\n",
       "      <td>186</td>\n",
       "      <td>...</td>\n",
       "      <td>4</td>\n",
       "      <td>1270</td>\n",
       "      <td>1366</td>\n",
       "      <td>2396</td>\n",
       "      <td>17</td>\n",
       "      <td>10</td>\n",
       "      <td>10</td>\n",
       "      <td>0</td>\n",
       "      <td>1</td>\n",
       "      <td>1</td>\n",
       "    </tr>\n",
       "    <tr>\n",
       "      <th>3</th>\n",
       "      <td>4</td>\n",
       "      <td>1546</td>\n",
       "      <td>0</td>\n",
       "      <td>0.5</td>\n",
       "      <td>1</td>\n",
       "      <td>18</td>\n",
       "      <td>1</td>\n",
       "      <td>25</td>\n",
       "      <td>0.5</td>\n",
       "      <td>96</td>\n",
       "      <td>...</td>\n",
       "      <td>20</td>\n",
       "      <td>295</td>\n",
       "      <td>1752</td>\n",
       "      <td>3893</td>\n",
       "      <td>10</td>\n",
       "      <td>0</td>\n",
       "      <td>7</td>\n",
       "      <td>1</td>\n",
       "      <td>1</td>\n",
       "      <td>0</td>\n",
       "    </tr>\n",
       "    <tr>\n",
       "      <th>4</th>\n",
       "      <td>5</td>\n",
       "      <td>1434</td>\n",
       "      <td>0</td>\n",
       "      <td>1.4</td>\n",
       "      <td>0</td>\n",
       "      <td>11</td>\n",
       "      <td>1</td>\n",
       "      <td>49</td>\n",
       "      <td>0.5</td>\n",
       "      <td>108</td>\n",
       "      <td>...</td>\n",
       "      <td>18</td>\n",
       "      <td>749</td>\n",
       "      <td>810</td>\n",
       "      <td>1773</td>\n",
       "      <td>15</td>\n",
       "      <td>8</td>\n",
       "      <td>7</td>\n",
       "      <td>1</td>\n",
       "      <td>0</td>\n",
       "      <td>1</td>\n",
       "    </tr>\n",
       "  </tbody>\n",
       "</table>\n",
       "<p>5 rows × 21 columns</p>\n",
       "</div>"
      ],
      "text/plain": [
       "   id  battery_power  blue  clock_speed  dual_sim  fc  four_g  int_memory  \\\n",
       "0   1           1043     1          1.8         1  14       0           5   \n",
       "1   2            841     1          0.5         1   4       1          61   \n",
       "2   3           1807     1          2.8         0   1       0          27   \n",
       "3   4           1546     0          0.5         1  18       1          25   \n",
       "4   5           1434     0          1.4         0  11       1          49   \n",
       "\n",
       "   m_dep  mobile_wt  ...  pc  px_height  px_width   ram  sc_h  sc_w  \\\n",
       "0    0.1        193  ...  16        226      1412  3476    12     7   \n",
       "1    0.8        191  ...  12        746       857  3895     6     0   \n",
       "2    0.9        186  ...   4       1270      1366  2396    17    10   \n",
       "3    0.5         96  ...  20        295      1752  3893    10     0   \n",
       "4    0.5        108  ...  18        749       810  1773    15     8   \n",
       "\n",
       "   talk_time  three_g  touch_screen  wifi  \n",
       "0          2        0             1     0  \n",
       "1          7        1             0     0  \n",
       "2         10        0             1     1  \n",
       "3          7        1             1     0  \n",
       "4          7        1             0     1  \n",
       "\n",
       "[5 rows x 21 columns]"
      ]
     },
     "execution_count": 9,
     "metadata": {},
     "output_type": "execute_result"
    }
   ],
   "source": [
    "# Check the first five rows of the independent variables\n",
    "\n",
    "testing.head()"
   ]
  },
  {
   "cell_type": "code",
   "execution_count": 10,
   "metadata": {},
   "outputs": [],
   "source": [
    "# Rename columns in a more understandable form for the test set\n",
    "\n",
    "testing = testing.rename(columns={'id':'ID', 'battery_power':'Battery_Power', 'blue':'Bluetooth', 'clock_speed':'Clock_Speed', 'dual_sim':'Dual_Sim','fc':'Front_Camera', 'four_g':'4G', 'int_memory':'Internal_Memory', 'm_dep':'Mobile_Depth', 'mobile_wt':'Weight', 'n_cores':'#_Cores', 'pc':'MP_Primary_Cam', 'px_height':'Pix_Height', 'px_width':'Pix_Width', 'ram':'RAM', 'sc_h':'Screen_Height', 'sc_w':'Screen_Width', 'talk_time':'Talk_Time', 'three_g':'3G', 'touch_screen':'Touch_Screen', 'wifi':'Wi-Fi', 'price_range':'Price_Range'})"
   ]
  },
  {
   "cell_type": "code",
   "execution_count": 11,
   "metadata": {},
   "outputs": [
    {
     "data": {
      "text/plain": [
       "(1000, 21)"
      ]
     },
     "execution_count": 11,
     "metadata": {},
     "output_type": "execute_result"
    }
   ],
   "source": [
    "# Check the shape of the testing dataframe\n",
    "\n",
    "testing.shape"
   ]
  },
  {
   "cell_type": "code",
   "execution_count": 12,
   "metadata": {},
   "outputs": [
    {
     "data": {
      "text/plain": [
       "Index(['ID', 'Battery_Power', 'Bluetooth', 'Clock_Speed', 'Dual_Sim',\n",
       "       'Front_Camera', '4G', 'Internal_Memory', 'Mobile_Depth', 'Weight',\n",
       "       '#_Cores', 'MP_Primary_Cam', 'Pix_Height', 'Pix_Width', 'RAM',\n",
       "       'Screen_Height', 'Screen_Width', 'Talk_Time', '3G', 'Touch_Screen',\n",
       "       'Wi-Fi'],\n",
       "      dtype='object')"
      ]
     },
     "execution_count": 12,
     "metadata": {},
     "output_type": "execute_result"
    }
   ],
   "source": [
    "# Print the testing columns\n",
    "\n",
    "testing.columns"
   ]
  },
  {
   "cell_type": "code",
   "execution_count": 13,
   "metadata": {},
   "outputs": [
    {
     "data": {
      "text/plain": [
       "ID                 0\n",
       "Battery_Power      0\n",
       "Bluetooth          0\n",
       "Clock_Speed        0\n",
       "Dual_Sim           0\n",
       "Front_Camera       0\n",
       "4G                 0\n",
       "Internal_Memory    0\n",
       "Mobile_Depth       0\n",
       "Weight             0\n",
       "#_Cores            0\n",
       "MP_Primary_Cam     0\n",
       "Pix_Height         0\n",
       "Pix_Width          0\n",
       "RAM                0\n",
       "Screen_Height      0\n",
       "Screen_Width       0\n",
       "Talk_Time          0\n",
       "3G                 0\n",
       "Touch_Screen       0\n",
       "Wi-Fi              0\n",
       "dtype: int64"
      ]
     },
     "execution_count": 13,
     "metadata": {},
     "output_type": "execute_result"
    }
   ],
   "source": [
    "# Check for the null values in the testing set\n",
    "\n",
    "testing.isnull().sum()"
   ]
  },
  {
   "cell_type": "code",
   "execution_count": 14,
   "metadata": {},
   "outputs": [],
   "source": [
    "# Drop the 'ID' column as it serves no purpose\n",
    "\n",
    "testing = testing.drop('ID', axis = 1)"
   ]
  },
  {
   "cell_type": "code",
   "execution_count": 15,
   "metadata": {},
   "outputs": [
    {
     "data": {
      "text/plain": [
       "Index(['Battery_Power', 'Bluetooth', 'Clock_Speed', 'Dual_Sim', 'Front_Camera',\n",
       "       '4G', 'Internal_Memory', 'Mobile_Depth', 'Weight', '#_Cores',\n",
       "       'MP_Primary_Cam', 'Pix_Height', 'Pix_Width', 'RAM', 'Screen_Height',\n",
       "       'Screen_Width', 'Talk_Time', '3G', 'Touch_Screen', 'Wi-Fi'],\n",
       "      dtype='object')"
      ]
     },
     "execution_count": 15,
     "metadata": {},
     "output_type": "execute_result"
    }
   ],
   "source": [
    "# Print the columns of the test set\n",
    "\n",
    "testing.columns"
   ]
  },
  {
   "cell_type": "markdown",
   "metadata": {},
   "source": [
    "## Scaler"
   ]
  },
  {
   "cell_type": "code",
   "execution_count": 16,
   "metadata": {},
   "outputs": [],
   "source": [
    "# Instantiate the Standard Scaler\n",
    "\n",
    "scale = StandardScaler()"
   ]
  },
  {
   "cell_type": "code",
   "execution_count": 17,
   "metadata": {},
   "outputs": [],
   "source": [
    "# Fit the Scaler to the dataset\n",
    "\n",
    "train_scale = scale.fit_transform(X)"
   ]
  },
  {
   "cell_type": "code",
   "execution_count": 18,
   "metadata": {},
   "outputs": [
    {
     "data": {
      "text/plain": [
       "array([[-0.90259726, -0.9900495 ,  0.83077942, ..., -1.78686097,\n",
       "        -1.00601811,  0.98609664],\n",
       "       [-0.49513857,  1.0100505 , -1.2530642 , ...,  0.55964063,\n",
       "         0.99401789, -1.01409939],\n",
       "       [-1.5376865 ,  1.0100505 , -1.2530642 , ...,  0.55964063,\n",
       "         0.99401789, -1.01409939],\n",
       "       ...,\n",
       "       [ 1.53077336, -0.9900495 , -0.76274805, ...,  0.55964063,\n",
       "         0.99401789, -1.01409939],\n",
       "       [ 0.62252745, -0.9900495 , -0.76274805, ...,  0.55964063,\n",
       "         0.99401789,  0.98609664],\n",
       "       [-1.65833069,  1.0100505 ,  0.58562134, ...,  0.55964063,\n",
       "         0.99401789,  0.98609664]])"
      ]
     },
     "execution_count": 18,
     "metadata": {},
     "output_type": "execute_result"
    }
   ],
   "source": [
    "# Print the scaled set in array form\n",
    "\n",
    "train_scale"
   ]
  },
  {
   "cell_type": "code",
   "execution_count": 19,
   "metadata": {},
   "outputs": [],
   "source": [
    "# Fit the scaler to the test set\n",
    "\n",
    "test_scale = scale.fit_transform(testing)"
   ]
  },
  {
   "cell_type": "code",
   "execution_count": 20,
   "metadata": {},
   "outputs": [
    {
     "data": {
      "text/plain": [
       "array([[-0.47545131,  0.968496  ,  0.31260069, ..., -1.76021608,\n",
       "         1.        , -1.01409939],\n",
       "       [-0.94278218,  0.968496  , -1.25583195, ...,  0.56811207,\n",
       "        -1.        , -1.01409939],\n",
       "       [ 1.29207729,  0.968496  ,  1.51908734, ..., -1.76021608,\n",
       "         1.        ,  0.98609664],\n",
       "       ...,\n",
       "       [-0.1469316 , -1.03252879, -0.16999397, ...,  0.56811207,\n",
       "        -1.        , -1.01409939],\n",
       "       [ 0.65817305,  0.968496  , -1.25583195, ..., -1.76021608,\n",
       "         1.        , -1.01409939],\n",
       "       [ 0.04971753,  0.968496  , -1.25583195, ...,  0.56811207,\n",
       "        -1.        ,  0.98609664]])"
      ]
     },
     "execution_count": 20,
     "metadata": {},
     "output_type": "execute_result"
    }
   ],
   "source": [
    "# Print the scaled test set\n",
    "\n",
    "test_scale"
   ]
  },
  {
   "cell_type": "markdown",
   "metadata": {},
   "source": [
    "## Initialize Train Test Set"
   ]
  },
  {
   "cell_type": "code",
   "execution_count": 21,
   "metadata": {},
   "outputs": [],
   "source": [
    "# Initialize the Train Test Set\n",
    "\n",
    "X_train,X_test,y_train,y_test=train_test_split(X,y,test_size=0.2,random_state=22)"
   ]
  },
  {
   "cell_type": "markdown",
   "metadata": {},
   "source": [
    "## Logistic Regression"
   ]
  },
  {
   "cell_type": "code",
   "execution_count": 22,
   "metadata": {},
   "outputs": [],
   "source": [
    "# Instantiate Logistic Regression\n",
    "\n",
    "lr = LogisticRegression()"
   ]
  },
  {
   "cell_type": "code",
   "execution_count": 23,
   "metadata": {},
   "outputs": [],
   "source": [
    "X_train_scale = scale.fit_transform(X_train)"
   ]
  },
  {
   "cell_type": "code",
   "execution_count": 24,
   "metadata": {},
   "outputs": [],
   "source": [
    "X_test_scale = scale.fit_transform(X_test)"
   ]
  },
  {
   "cell_type": "code",
   "execution_count": 25,
   "metadata": {},
   "outputs": [
    {
     "data": {
      "text/plain": [
       "LogisticRegression()"
      ]
     },
     "execution_count": 25,
     "metadata": {},
     "output_type": "execute_result"
    }
   ],
   "source": [
    "lr.fit(X_train_scale, y_train)"
   ]
  },
  {
   "cell_type": "code",
   "execution_count": 26,
   "metadata": {},
   "outputs": [],
   "source": [
    "y_prediction=lr.predict(X_test_scale)"
   ]
  },
  {
   "cell_type": "code",
   "execution_count": 27,
   "metadata": {},
   "outputs": [
    {
     "data": {
      "text/plain": [
       "array([2, 3, 1, 2, 3, 1, 3, 1, 1, 2, 3, 0, 1, 1, 1, 0, 2, 1, 0, 0, 3, 3,\n",
       "       0, 3, 0, 3, 0, 2, 3, 0, 1, 3, 2, 2, 1, 2, 0, 3, 2, 2, 0, 2, 1, 2,\n",
       "       3, 2, 3, 0, 2, 0, 1, 1, 0, 0, 2, 3, 0, 3, 0, 3, 2, 2, 0, 3, 1, 0,\n",
       "       2, 0, 0, 1, 1, 0, 1, 1, 0, 2, 3, 3, 3, 3, 1, 0, 1, 0, 3, 2, 3, 0,\n",
       "       3, 0, 1, 0, 3, 0, 2, 1, 2, 3, 1, 3, 2, 2, 1, 1, 3, 0, 1, 3, 0, 3,\n",
       "       1, 0, 3, 2, 1, 3, 2, 2, 0, 1, 3, 0, 2, 3, 3, 2, 0, 0, 3, 0, 0, 3,\n",
       "       2, 3, 2, 1, 0, 1, 3, 0, 2, 0, 1, 3, 1, 3, 0, 0, 2, 2, 2, 1, 1, 1,\n",
       "       0, 1, 2, 0, 1, 1, 3, 3, 3, 3, 3, 0, 3, 0, 1, 1, 2, 1, 0, 0, 2, 3,\n",
       "       2, 1, 1, 1, 3, 1, 3, 1, 1, 1, 1, 2, 1, 3, 3, 0, 1, 0, 1, 0, 0, 0,\n",
       "       2, 3, 3, 0, 1, 3, 1, 0, 3, 2, 2, 3, 3, 2, 2, 3, 2, 0, 0, 0, 2, 0,\n",
       "       0, 1, 3, 2, 2, 3, 1, 2, 3, 0, 2, 2, 3, 3, 1, 2, 3, 3, 1, 3, 2, 2,\n",
       "       0, 3, 3, 1, 1, 0, 1, 1, 3, 3, 2, 1, 0, 0, 2, 2, 2, 0, 3, 1, 1, 2,\n",
       "       3, 3, 0, 2, 0, 0, 0, 3, 3, 2, 0, 0, 2, 2, 3, 2, 0, 3, 2, 0, 0, 0,\n",
       "       0, 3, 3, 0, 3, 2, 2, 3, 2, 2, 3, 0, 2, 3, 3, 1, 1, 1, 2, 2, 3, 2,\n",
       "       3, 0, 3, 0, 0, 1, 3, 3, 0, 2, 2, 1, 1, 2, 1, 1, 2, 3, 0, 2, 0, 2,\n",
       "       2, 0, 1, 3, 3, 2, 1, 2, 1, 3, 0, 2, 1, 1, 0, 3, 0, 3, 1, 0, 1, 0,\n",
       "       3, 1, 2, 3, 1, 3, 0, 2, 1, 0, 1, 3, 1, 1, 0, 1, 0, 2, 1, 2, 1, 1,\n",
       "       2, 1, 2, 0, 2, 0, 1, 1, 2, 2, 2, 1, 2, 3, 2, 0, 0, 2, 2, 1, 2, 0,\n",
       "       1, 1, 0, 2], dtype=int64)"
      ]
     },
     "execution_count": 27,
     "metadata": {},
     "output_type": "execute_result"
    }
   ],
   "source": [
    "y_prediction"
   ]
  },
  {
   "cell_type": "code",
   "execution_count": 28,
   "metadata": {},
   "outputs": [],
   "source": [
    "lr_accuracy = accuracy_score(y_test, y_prediction)"
   ]
  },
  {
   "cell_type": "code",
   "execution_count": 29,
   "metadata": {},
   "outputs": [
    {
     "name": "stdout",
     "output_type": "stream",
     "text": [
      "[[96  0  0  0]\n",
      " [ 5 89  0  0]\n",
      " [ 0  9 96  4]\n",
      " [ 0  0  4 97]]\n"
     ]
    }
   ],
   "source": [
    "print(confusion_matrix(y_test, y_prediction))"
   ]
  },
  {
   "cell_type": "code",
   "execution_count": 30,
   "metadata": {},
   "outputs": [
    {
     "name": "stdout",
     "output_type": "stream",
     "text": [
      "              precision    recall  f1-score   support\n",
      "\n",
      "           0       0.95      1.00      0.97        96\n",
      "           1       0.91      0.95      0.93        94\n",
      "           2       0.96      0.88      0.92       109\n",
      "           3       0.96      0.96      0.96       101\n",
      "\n",
      "    accuracy                           0.94       400\n",
      "   macro avg       0.94      0.95      0.95       400\n",
      "weighted avg       0.95      0.94      0.94       400\n",
      "\n"
     ]
    }
   ],
   "source": [
    "print(classification_report(y_test, y_prediction))"
   ]
  },
  {
   "cell_type": "markdown",
   "metadata": {},
   "source": [
    "## K Neighbors Classifier"
   ]
  },
  {
   "cell_type": "code",
   "execution_count": 31,
   "metadata": {},
   "outputs": [],
   "source": [
    "knn=KNeighborsClassifier(n_neighbors=5)"
   ]
  },
  {
   "cell_type": "code",
   "execution_count": 32,
   "metadata": {},
   "outputs": [
    {
     "data": {
      "text/plain": [
       "KNeighborsClassifier()"
      ]
     },
     "execution_count": 32,
     "metadata": {},
     "output_type": "execute_result"
    }
   ],
   "source": [
    "knn.fit(X_train,y_train)"
   ]
  },
  {
   "cell_type": "code",
   "execution_count": 33,
   "metadata": {},
   "outputs": [],
   "source": [
    "y_prediction1 = knn.predict(X_test)"
   ]
  },
  {
   "cell_type": "code",
   "execution_count": 34,
   "metadata": {},
   "outputs": [
    {
     "data": {
      "text/plain": [
       "array([2, 3, 1, 2, 3, 1, 2, 1, 2, 2, 3, 0, 2, 1, 1, 0, 2, 1, 0, 0, 3, 3,\n",
       "       0, 3, 1, 3, 0, 2, 3, 0, 1, 3, 2, 2, 1, 2, 0, 2, 3, 3, 0, 2, 1, 2,\n",
       "       3, 2, 3, 0, 2, 1, 1, 1, 0, 0, 3, 3, 0, 3, 0, 3, 2, 2, 0, 3, 1, 0,\n",
       "       2, 0, 0, 1, 1, 0, 1, 1, 0, 2, 3, 3, 3, 3, 1, 0, 1, 0, 3, 2, 3, 0,\n",
       "       3, 0, 2, 0, 3, 0, 2, 1, 2, 3, 1, 3, 2, 2, 1, 1, 3, 0, 1, 3, 0, 3,\n",
       "       1, 0, 3, 1, 0, 3, 2, 2, 0, 1, 3, 0, 2, 3, 2, 1, 0, 0, 2, 0, 0, 3,\n",
       "       2, 3, 2, 1, 0, 1, 3, 1, 2, 0, 1, 3, 1, 3, 0, 0, 2, 2, 2, 1, 1, 1,\n",
       "       0, 1, 2, 0, 1, 1, 3, 3, 3, 3, 3, 0, 3, 0, 1, 1, 2, 1, 0, 0, 2, 3,\n",
       "       2, 1, 1, 1, 3, 1, 3, 1, 1, 1, 1, 2, 2, 3, 3, 0, 1, 1, 1, 0, 0, 0,\n",
       "       2, 3, 3, 0, 1, 3, 1, 0, 3, 2, 2, 3, 3, 2, 2, 3, 2, 0, 0, 0, 2, 0,\n",
       "       0, 2, 3, 2, 2, 2, 1, 2, 3, 0, 2, 2, 3, 3, 1, 2, 3, 3, 1, 3, 2, 2,\n",
       "       0, 3, 3, 1, 1, 0, 1, 1, 3, 3, 2, 1, 0, 0, 2, 2, 2, 0, 3, 1, 2, 2,\n",
       "       3, 3, 0, 2, 1, 0, 0, 3, 3, 2, 0, 0, 2, 2, 3, 2, 0, 3, 1, 0, 0, 0,\n",
       "       0, 3, 3, 0, 2, 2, 2, 3, 2, 2, 3, 0, 2, 3, 3, 2, 1, 1, 2, 2, 3, 2,\n",
       "       2, 0, 3, 0, 0, 1, 3, 3, 0, 2, 2, 1, 1, 2, 1, 1, 2, 3, 0, 2, 0, 2,\n",
       "       2, 0, 2, 3, 2, 2, 1, 3, 1, 3, 0, 2, 1, 1, 0, 3, 0, 3, 1, 0, 1, 0,\n",
       "       3, 1, 2, 3, 1, 3, 0, 2, 1, 0, 1, 2, 1, 1, 0, 1, 0, 2, 1, 1, 1, 1,\n",
       "       2, 1, 2, 0, 2, 0, 1, 1, 2, 2, 2, 1, 2, 3, 2, 0, 0, 2, 2, 1, 2, 0,\n",
       "       1, 1, 0, 2], dtype=int64)"
      ]
     },
     "execution_count": 34,
     "metadata": {},
     "output_type": "execute_result"
    }
   ],
   "source": [
    "y_prediction1"
   ]
  },
  {
   "cell_type": "code",
   "execution_count": 35,
   "metadata": {},
   "outputs": [],
   "source": [
    "knn_accuracy=accuracy_score(y_test, y_prediction1)"
   ]
  },
  {
   "cell_type": "code",
   "execution_count": 36,
   "metadata": {},
   "outputs": [
    {
     "data": {
      "text/plain": [
       "0.9425"
      ]
     },
     "execution_count": 36,
     "metadata": {},
     "output_type": "execute_result"
    }
   ],
   "source": [
    "knn_accuracy"
   ]
  },
  {
   "cell_type": "code",
   "execution_count": 37,
   "metadata": {},
   "outputs": [
    {
     "name": "stdout",
     "output_type": "stream",
     "text": [
      "[[ 94   2   0   0]\n",
      " [  3  89   2   0]\n",
      " [  0   7 100   2]\n",
      " [  0   0   7  94]]\n"
     ]
    }
   ],
   "source": [
    "print(confusion_matrix(y_test, y_prediction1))"
   ]
  },
  {
   "cell_type": "code",
   "execution_count": 38,
   "metadata": {},
   "outputs": [
    {
     "name": "stdout",
     "output_type": "stream",
     "text": [
      "              precision    recall  f1-score   support\n",
      "\n",
      "           0       0.97      0.98      0.97        96\n",
      "           1       0.91      0.95      0.93        94\n",
      "           2       0.92      0.92      0.92       109\n",
      "           3       0.98      0.93      0.95       101\n",
      "\n",
      "    accuracy                           0.94       400\n",
      "   macro avg       0.94      0.94      0.94       400\n",
      "weighted avg       0.94      0.94      0.94       400\n",
      "\n"
     ]
    }
   ],
   "source": [
    "print(classification_report(y_test, y_prediction1))"
   ]
  },
  {
   "cell_type": "markdown",
   "metadata": {},
   "source": [
    "## Decision Tree Classifier"
   ]
  },
  {
   "cell_type": "code",
   "execution_count": 39,
   "metadata": {},
   "outputs": [],
   "source": [
    "dtc=DecisionTreeClassifier()"
   ]
  },
  {
   "cell_type": "code",
   "execution_count": 40,
   "metadata": {},
   "outputs": [
    {
     "data": {
      "text/plain": [
       "DecisionTreeClassifier()"
      ]
     },
     "execution_count": 40,
     "metadata": {},
     "output_type": "execute_result"
    }
   ],
   "source": [
    "dtc.fit(X_train,y_train)"
   ]
  },
  {
   "cell_type": "code",
   "execution_count": 41,
   "metadata": {},
   "outputs": [],
   "source": [
    "y_prediction2=dtc.predict(X_test)"
   ]
  },
  {
   "cell_type": "code",
   "execution_count": 42,
   "metadata": {},
   "outputs": [
    {
     "data": {
      "text/plain": [
       "array([2, 3, 1, 2, 3, 1, 3, 1, 1, 2, 3, 0, 2, 1, 1, 0, 2, 1, 0, 0, 3, 3,\n",
       "       0, 3, 1, 2, 0, 2, 3, 0, 0, 3, 2, 1, 1, 2, 0, 2, 3, 3, 0, 2, 1, 2,\n",
       "       2, 2, 3, 1, 3, 0, 2, 1, 0, 0, 3, 3, 0, 3, 0, 3, 2, 2, 0, 2, 1, 0,\n",
       "       2, 0, 0, 1, 1, 0, 1, 1, 0, 2, 3, 3, 3, 3, 1, 0, 1, 1, 3, 2, 3, 1,\n",
       "       3, 0, 1, 0, 3, 0, 2, 1, 3, 3, 2, 3, 2, 2, 1, 1, 3, 0, 1, 3, 0, 3,\n",
       "       0, 0, 3, 2, 1, 2, 1, 2, 0, 2, 3, 0, 2, 3, 2, 1, 1, 0, 2, 0, 0, 3,\n",
       "       2, 3, 2, 1, 0, 1, 2, 1, 2, 0, 1, 2, 1, 3, 0, 0, 2, 2, 3, 1, 1, 1,\n",
       "       0, 2, 2, 0, 1, 2, 3, 3, 3, 3, 3, 0, 3, 0, 0, 1, 2, 1, 0, 0, 2, 3,\n",
       "       2, 2, 1, 1, 3, 1, 3, 2, 1, 1, 1, 2, 2, 3, 3, 0, 1, 1, 1, 0, 0, 0,\n",
       "       2, 3, 3, 0, 1, 3, 1, 0, 3, 2, 2, 3, 3, 2, 2, 3, 2, 0, 0, 1, 2, 1,\n",
       "       0, 1, 3, 2, 3, 2, 0, 1, 3, 0, 2, 2, 3, 3, 1, 2, 3, 3, 1, 3, 2, 2,\n",
       "       0, 3, 3, 1, 1, 0, 1, 2, 3, 3, 2, 2, 0, 0, 2, 2, 1, 0, 3, 1, 1, 2,\n",
       "       3, 3, 0, 2, 1, 0, 0, 3, 3, 2, 0, 0, 2, 2, 3, 2, 0, 2, 1, 0, 0, 0,\n",
       "       0, 3, 3, 0, 3, 3, 2, 3, 2, 2, 3, 0, 2, 3, 3, 2, 0, 1, 2, 1, 3, 3,\n",
       "       3, 0, 3, 0, 1, 1, 3, 2, 0, 1, 1, 1, 1, 2, 1, 1, 2, 3, 0, 2, 0, 1,\n",
       "       2, 0, 1, 2, 3, 2, 1, 3, 2, 3, 0, 2, 1, 1, 0, 3, 0, 3, 0, 0, 1, 0,\n",
       "       3, 1, 2, 3, 1, 3, 0, 2, 1, 0, 1, 3, 1, 1, 0, 1, 0, 2, 1, 2, 1, 1,\n",
       "       2, 1, 2, 0, 2, 0, 1, 1, 2, 2, 2, 1, 2, 2, 2, 0, 0, 2, 3, 2, 2, 0,\n",
       "       1, 1, 0, 2], dtype=int64)"
      ]
     },
     "execution_count": 42,
     "metadata": {},
     "output_type": "execute_result"
    }
   ],
   "source": [
    "y_prediction2"
   ]
  },
  {
   "cell_type": "code",
   "execution_count": 43,
   "metadata": {},
   "outputs": [],
   "source": [
    "dtc_accuracy = accuracy_score(y_test, y_prediction2)"
   ]
  },
  {
   "cell_type": "code",
   "execution_count": 44,
   "metadata": {},
   "outputs": [
    {
     "data": {
      "text/plain": [
       "0.83"
      ]
     },
     "execution_count": 44,
     "metadata": {},
     "output_type": "execute_result"
    }
   ],
   "source": [
    "dtc_accuracy"
   ]
  },
  {
   "cell_type": "code",
   "execution_count": 45,
   "metadata": {},
   "outputs": [
    {
     "name": "stdout",
     "output_type": "stream",
     "text": [
      "[[87  9  0  0]\n",
      " [ 9 74 11  0]\n",
      " [ 0 16 83 10]\n",
      " [ 0  0 13 88]]\n"
     ]
    }
   ],
   "source": [
    "print(confusion_matrix(y_test, y_prediction2))"
   ]
  },
  {
   "cell_type": "code",
   "execution_count": 46,
   "metadata": {},
   "outputs": [
    {
     "name": "stdout",
     "output_type": "stream",
     "text": [
      "              precision    recall  f1-score   support\n",
      "\n",
      "           0       0.91      0.91      0.91        96\n",
      "           1       0.75      0.79      0.77        94\n",
      "           2       0.78      0.76      0.77       109\n",
      "           3       0.90      0.87      0.88       101\n",
      "\n",
      "    accuracy                           0.83       400\n",
      "   macro avg       0.83      0.83      0.83       400\n",
      "weighted avg       0.83      0.83      0.83       400\n",
      "\n"
     ]
    }
   ],
   "source": [
    "print(classification_report(y_test, y_prediction2))"
   ]
  },
  {
   "cell_type": "markdown",
   "metadata": {},
   "source": [
    "## Support Vector Classifier"
   ]
  },
  {
   "cell_type": "code",
   "execution_count": 47,
   "metadata": {},
   "outputs": [],
   "source": [
    "svc = SVC()"
   ]
  },
  {
   "cell_type": "code",
   "execution_count": 48,
   "metadata": {},
   "outputs": [
    {
     "data": {
      "text/plain": [
       "SVC()"
      ]
     },
     "execution_count": 48,
     "metadata": {},
     "output_type": "execute_result"
    }
   ],
   "source": [
    "svc.fit(X_train, y_train)"
   ]
  },
  {
   "cell_type": "code",
   "execution_count": 49,
   "metadata": {},
   "outputs": [],
   "source": [
    "y_prediction3 = svc.predict(X_test)"
   ]
  },
  {
   "cell_type": "code",
   "execution_count": 50,
   "metadata": {},
   "outputs": [
    {
     "data": {
      "text/plain": [
       "array([2, 3, 1, 2, 3, 1, 3, 1, 1, 2, 3, 0, 1, 1, 1, 0, 2, 1, 0, 0, 3, 3,\n",
       "       0, 3, 1, 3, 0, 2, 3, 0, 1, 3, 2, 2, 1, 2, 0, 3, 3, 3, 0, 2, 1, 2,\n",
       "       3, 2, 3, 0, 2, 1, 1, 1, 0, 1, 3, 3, 0, 3, 0, 3, 2, 2, 0, 3, 1, 0,\n",
       "       2, 0, 0, 1, 1, 0, 1, 1, 0, 2, 3, 3, 3, 3, 1, 0, 1, 0, 3, 2, 3, 0,\n",
       "       3, 0, 2, 0, 3, 0, 2, 1, 2, 3, 1, 3, 2, 2, 1, 1, 3, 0, 1, 3, 0, 3,\n",
       "       1, 0, 3, 2, 1, 3, 1, 2, 0, 1, 3, 1, 2, 3, 3, 2, 0, 0, 2, 0, 0, 3,\n",
       "       2, 3, 2, 1, 0, 1, 3, 1, 2, 0, 1, 3, 1, 3, 0, 0, 2, 2, 2, 1, 1, 1,\n",
       "       0, 1, 2, 0, 1, 1, 3, 3, 3, 3, 3, 0, 3, 0, 1, 1, 2, 1, 0, 0, 2, 3,\n",
       "       2, 1, 1, 1, 3, 1, 3, 1, 1, 1, 1, 2, 2, 3, 3, 0, 1, 1, 1, 0, 0, 0,\n",
       "       2, 3, 3, 0, 1, 3, 1, 0, 3, 2, 2, 3, 3, 2, 2, 3, 2, 0, 1, 0, 2, 0,\n",
       "       0, 2, 3, 2, 2, 2, 1, 2, 3, 0, 2, 2, 3, 3, 1, 2, 3, 3, 1, 3, 2, 2,\n",
       "       0, 3, 3, 1, 1, 0, 1, 1, 3, 3, 2, 1, 1, 0, 2, 2, 2, 0, 3, 1, 2, 2,\n",
       "       3, 3, 0, 2, 0, 0, 0, 3, 3, 2, 0, 0, 2, 2, 3, 2, 0, 3, 2, 0, 0, 0,\n",
       "       0, 3, 3, 0, 2, 2, 2, 3, 2, 2, 3, 0, 2, 3, 3, 1, 1, 1, 2, 2, 3, 2,\n",
       "       2, 0, 3, 0, 0, 1, 3, 3, 0, 2, 2, 1, 1, 2, 1, 1, 2, 3, 0, 2, 0, 2,\n",
       "       2, 0, 1, 3, 3, 2, 1, 3, 1, 3, 0, 2, 1, 1, 0, 3, 0, 3, 0, 0, 1, 0,\n",
       "       3, 1, 2, 3, 1, 3, 0, 2, 1, 0, 1, 2, 1, 1, 0, 1, 0, 2, 1, 2, 1, 1,\n",
       "       2, 1, 2, 0, 2, 0, 1, 1, 2, 2, 2, 1, 2, 3, 2, 0, 0, 2, 2, 1, 2, 0,\n",
       "       1, 1, 0, 2], dtype=int64)"
      ]
     },
     "execution_count": 50,
     "metadata": {},
     "output_type": "execute_result"
    }
   ],
   "source": [
    "y_prediction3"
   ]
  },
  {
   "cell_type": "code",
   "execution_count": 51,
   "metadata": {},
   "outputs": [],
   "source": [
    "svc_accuracy=accuracy_score(y_test, y_prediction3,)"
   ]
  },
  {
   "cell_type": "code",
   "execution_count": 52,
   "metadata": {},
   "outputs": [
    {
     "data": {
      "text/plain": [
       "0.9575"
      ]
     },
     "execution_count": 52,
     "metadata": {},
     "output_type": "execute_result"
    }
   ],
   "source": [
    "svc_accuracy"
   ]
  },
  {
   "cell_type": "code",
   "execution_count": 53,
   "metadata": {},
   "outputs": [
    {
     "name": "stdout",
     "output_type": "stream",
     "text": [
      "[[ 93   3   0   0]\n",
      " [  1  92   1   0]\n",
      " [  0   7 100   2]\n",
      " [  0   0   3  98]]\n"
     ]
    }
   ],
   "source": [
    "print(confusion_matrix(y_test, y_prediction3))"
   ]
  },
  {
   "cell_type": "code",
   "execution_count": null,
   "metadata": {},
   "outputs": [],
   "source": [
    "print(classification_report(y_test, y_prediction3))"
   ]
  },
  {
   "cell_type": "markdown",
   "metadata": {},
   "source": [
    "## Gradient Boosting Classifier"
   ]
  },
  {
   "cell_type": "code",
   "execution_count": 55,
   "metadata": {},
   "outputs": [],
   "source": [
    "gbc = GradientBoostingClassifier()"
   ]
  },
  {
   "cell_type": "code",
   "execution_count": 56,
   "metadata": {},
   "outputs": [
    {
     "data": {
      "text/plain": [
       "GradientBoostingClassifier()"
      ]
     },
     "execution_count": 56,
     "metadata": {},
     "output_type": "execute_result"
    }
   ],
   "source": [
    "gbc.fit(X_train, y_train)"
   ]
  },
  {
   "cell_type": "code",
   "execution_count": 57,
   "metadata": {},
   "outputs": [],
   "source": [
    "y_prediction4 = gbc.predict(X_test)"
   ]
  },
  {
   "cell_type": "code",
   "execution_count": 58,
   "metadata": {},
   "outputs": [],
   "source": [
    "gbc_accuracy=accuracy_score(y_test, y_prediction4)"
   ]
  },
  {
   "cell_type": "code",
   "execution_count": 59,
   "metadata": {},
   "outputs": [
    {
     "data": {
      "text/plain": [
       "0.9125"
      ]
     },
     "execution_count": 59,
     "metadata": {},
     "output_type": "execute_result"
    }
   ],
   "source": [
    "gbc_accuracy"
   ]
  },
  {
   "cell_type": "code",
   "execution_count": 60,
   "metadata": {},
   "outputs": [
    {
     "name": "stdout",
     "output_type": "stream",
     "text": [
      "[[92  4  0  0]\n",
      " [ 1 86  7  0]\n",
      " [ 0 10 94  5]\n",
      " [ 0  0  8 93]]\n"
     ]
    }
   ],
   "source": [
    "print(confusion_matrix(y_test, y_prediction4))"
   ]
  },
  {
   "cell_type": "code",
   "execution_count": 61,
   "metadata": {},
   "outputs": [
    {
     "name": "stdout",
     "output_type": "stream",
     "text": [
      "              precision    recall  f1-score   support\n",
      "\n",
      "           0       0.99      0.96      0.97        96\n",
      "           1       0.86      0.91      0.89        94\n",
      "           2       0.86      0.86      0.86       109\n",
      "           3       0.95      0.92      0.93       101\n",
      "\n",
      "    accuracy                           0.91       400\n",
      "   macro avg       0.92      0.91      0.91       400\n",
      "weighted avg       0.91      0.91      0.91       400\n",
      "\n"
     ]
    }
   ],
   "source": [
    "print(classification_report(y_test, y_prediction4))"
   ]
  },
  {
   "cell_type": "code",
   "execution_count": 62,
   "metadata": {},
   "outputs": [
    {
     "data": {
      "text/plain": [
       "<matplotlib.axes._subplots.AxesSubplot at 0x13b447f6c70>"
      ]
     },
     "execution_count": 62,
     "metadata": {},
     "output_type": "execute_result"
    },
    {
     "data": {
      "image/png": "[encoded data removed]",
      "text/plain": [
       "<Figure size 432x288 with 1 Axes>"
      ]
     },
     "metadata": {
      "needs_background": "light"
     },
     "output_type": "display_data"
    }
   ],
   "source": [
    "sns.barplot(x = [lr_accuracy,knn_accuracy,dtc_accuracy, svc_accuracy, gbc_accuracy], y = ['Logistic Regression','KNN','Decision Tree', 'Support Vector', 'Gradient Boosting'],palette = 'rocket')"
   ]
  },
  {
   "cell_type": "code",
   "execution_count": 63,
   "metadata": {},
   "outputs": [],
   "source": [
    "model_accuracy = {'Model':['Logistic Regression', 'K Nearest Neighbors', 'Decision Tree', 'Support Vector', 'Gradient_Boosting'], 'Accuracy':[lr_accuracy, knn_accuracy, dtc_accuracy, svc_accuracy, gbc_accuracy]}\n"
   ]
  },
  {
   "cell_type": "code",
   "execution_count": 64,
   "metadata": {},
   "outputs": [
    {
     "data": {
      "text/html": [
       "<div>\n",
       "<style scoped>\n",
       "    .dataframe tbody tr th:only-of-type {\n",
       "        vertical-align: middle;\n",
       "    }\n",
       "\n",
       "    .dataframe tbody tr th {\n",
       "        vertical-align: top;\n",
       "    }\n",
       "\n",
       "    .dataframe thead th {\n",
       "        text-align: right;\n",
       "    }\n",
       "</style>\n",
       "<table border=\"1\" class=\"dataframe\">\n",
       "  <thead>\n",
       "    <tr style=\"text-align: right;\">\n",
       "      <th></th>\n",
       "      <th>Model</th>\n",
       "      <th>Accuracy</th>\n",
       "    </tr>\n",
       "  </thead>\n",
       "  <tbody>\n",
       "    <tr>\n",
       "      <th>0</th>\n",
       "      <td>Logistic Regression</td>\n",
       "      <td>0.9450</td>\n",
       "    </tr>\n",
       "    <tr>\n",
       "      <th>1</th>\n",
       "      <td>K Nearest Neighbors</td>\n",
       "      <td>0.9425</td>\n",
       "    </tr>\n",
       "    <tr>\n",
       "      <th>2</th>\n",
       "      <td>Decision Tree</td>\n",
       "      <td>0.8300</td>\n",
       "    </tr>\n",
       "    <tr>\n",
       "      <th>3</th>\n",
       "      <td>Support Vector</td>\n",
       "      <td>0.9575</td>\n",
       "    </tr>\n",
       "    <tr>\n",
       "      <th>4</th>\n",
       "      <td>Gradient_Boosting</td>\n",
       "      <td>0.9125</td>\n",
       "    </tr>\n",
       "  </tbody>\n",
       "</table>\n",
       "</div>"
      ],
      "text/plain": [
       "                 Model  Accuracy\n",
       "0  Logistic Regression    0.9450\n",
       "1  K Nearest Neighbors    0.9425\n",
       "2        Decision Tree    0.8300\n",
       "3       Support Vector    0.9575\n",
       "4    Gradient_Boosting    0.9125"
      ]
     },
     "execution_count": 64,
     "metadata": {},
     "output_type": "execute_result"
    }
   ],
   "source": [
    "df = pd.DataFrame(data=model_accuracy)\n",
    "df"
   ]
  },
  {
   "cell_type": "code",
   "execution_count": null,
   "metadata": {},
   "outputs": [],
   "source": []
  }
 ],
 "metadata": {
  "kernelspec": {
   "display_name": "Python 3",
   "language": "python",
   "name": "python3"
  },
  "language_info": {
   "codemirror_mode": {
    "name": "ipython",
    "version": 3
   },
   "file_extension": ".py",
   "mimetype": "text/x-python",
   "name": "python",
   "nbconvert_exporter": "python",
   "pygments_lexer": "ipython3",
   "version": "3.8.3"
  }
 },
 "nbformat": 4,
 "nbformat_minor": 4
}
